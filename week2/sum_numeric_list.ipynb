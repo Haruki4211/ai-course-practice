{
  "nbformat": 4,
  "nbformat_minor": 0,
  "metadata": {
    "colab": {
      "provenance": []
    },
    "kernelspec": {
      "name": "python3",
      "display_name": "Python 3"
    },
    "language_info": {
      "name": "python"
    }
  },
  "cells": [
    {
      "cell_type": "code",
      "execution_count": 1,
      "metadata": {
        "colab": {
          "base_uri": "https://localhost:8080/"
        },
        "id": "HwrFdNb16YZ0",
        "outputId": "b2e1a29c-75c0-4550-f0dc-3bedd935c394"
      },
      "outputs": [
        {
          "output_type": "stream",
          "name": "stdout",
          "text": [
            "リスト1の合計: 15\n",
            "「無効な値が含まれています:hello」\n",
            "「無効な値が含まれています:world」\n",
            "リスト2の合計: 9\n"
          ]
        }
      ],
      "source": [
        "def sum_numeric_list(data):\n",
        "    total = 0\n",
        "    # ここに処理を記述\n",
        "    for i in data:\n",
        "      try:\n",
        "        total =total+i\n",
        "      except ValueError:\n",
        "        print(f\"「無効な値が含まれています：{i}」\")\n",
        "      except TypeError:\n",
        "        print(f\"「無効な値が含まれています:{i}」\")\n",
        "\n",
        "    return total\n",
        "\n",
        "test_list1 = [1, 2, 3, 4, 5]\n",
        "test_list2 = [1, \"hello\", 3, \"world\", 5]\n",
        "print(f\"リスト1の合計: {sum_numeric_list(test_list1)}\")\n",
        "print(f\"リスト2の合計: {sum_numeric_list(test_list2)}\")"
      ]
    },
    {
      "cell_type": "code",
      "source": [],
      "metadata": {
        "id": "OP81HXcq7Xep"
      },
      "execution_count": null,
      "outputs": []
    }
  ]
}